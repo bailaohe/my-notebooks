{
 "cells": [
  {
   "cell_type": "code",
   "execution_count": null,
   "metadata": {},
   "outputs": [],
   "source": [
    "import jieba\n",
    "import matplotlib.pyplot as plt\n",
    "from wordcloud import WordCloud"
   ]
  },
  {
   "cell_type": "code",
   "execution_count": null,
   "metadata": {},
   "outputs": [],
   "source": [
    "wcdata = open('dataset/wcdata.txt', 'r', encoding='utf-8').read()\n",
    "s = [line.strip() for line in open('dataset/wcdict.txt', encoding='utf-8').readlines()]"
   ]
  },
  {
   "cell_type": "code",
   "execution_count": null,
   "metadata": {},
   "outputs": [],
   "source": [
    "jieba.load_userdict(s)"
   ]
  },
  {
   "cell_type": "code",
   "execution_count": null,
   "metadata": {},
   "outputs": [],
   "source": [
    "wordcut = jieba.lcut(txt)\n",
    "wdict = {}\n",
    "for word in wordcut:\n",
    "    if word not in s:\n",
    "        if len(word) == 1:\n",
    "            continue\n",
    "        else:\n",
    "            wdict[word] = wdict.get(word, 0) + 1\n",
    "wc = list(wdict.items())\n",
    "wc.sort(key=lambda x: x[1], reverse=True)\n",
    "for i in range(25):\n",
    "    print(wc[i])\n",
    "cut_text = \" \".join(wordcut)\n",
    "print(cut_text)"
   ]
  },
  {
   "cell_type": "code",
   "execution_count": null,
   "metadata": {},
   "outputs": [],
   "source": [
    "wc = WordCloud(font_path='dataset/wqy-microhei.ttc', width=800, height=400).generate(cut_text)\n",
    "plt.imshow(wc)\n",
    "plt.axis(\"off\")\n",
    "plt.show()"
   ]
  },
  {
   "cell_type": "code",
   "execution_count": null,
   "metadata": {},
   "outputs": [],
   "source": []
  }
 ],
 "metadata": {
  "kernelspec": {
   "display_name": "Python 3",
   "language": "python",
   "name": "python3"
  },
  "language_info": {
   "codemirror_mode": {
    "name": "ipython",
    "version": 3
   },
   "file_extension": ".py",
   "mimetype": "text/x-python",
   "name": "python",
   "nbconvert_exporter": "python",
   "pygments_lexer": "ipython3",
   "version": "3.7.4"
  }
 },
 "nbformat": 4,
 "nbformat_minor": 2
}
